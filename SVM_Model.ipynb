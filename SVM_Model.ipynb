{
 "cells": [
  {
   "cell_type": "markdown",
   "id": "61be565e-ec86-4955-bf59-0adde93b8c13",
   "metadata": {},
   "source": [
    "## SVM model:"
   ]
  },
  {
   "cell_type": "code",
   "execution_count": 3,
   "id": "6166fec4-4574-4b20-a235-94713e31a7c7",
   "metadata": {},
   "outputs": [],
   "source": [
    "import pandas as pd\n",
    "\n",
    "# Load the CSV files\n",
    "features_path = 'features.csv'\n",
    "targets_path = 'targets.csv'\n",
    "\n",
    "# Reading the CSV files\n",
    "features_df = pd.read_csv(features_path)\n",
    "targets_df = pd.read_csv(targets_path)\n",
    "\n",
    "# # Display the first few rows of each dataframe\n",
    "# features_head = features_df.head()\n",
    "# targets_head = targets_df.head()\n",
    "\n",
    "# features_head, targets_head\n"
   ]
  },
  {
   "cell_type": "code",
   "execution_count": 4,
   "id": "d15749c5-4295-441a-9dae-4f5c7e034d3c",
   "metadata": {},
   "outputs": [],
   "source": [
    "from sklearn import svm\n",
    "from sklearn.model_selection import cross_val_score\n",
    "from sklearn.preprocessing import StandardScaler\n",
    "from sklearn.pipeline import make_pipeline\n"
   ]
  },
  {
   "cell_type": "code",
   "execution_count": 5,
   "id": "2143f459-9719-4808-9e84-f83192dd1413",
   "metadata": {},
   "outputs": [
    {
     "data": {
      "text/plain": [
       "(0.8832737761924646, 0.12565166827974095)"
      ]
     },
     "execution_count": 5,
     "metadata": {},
     "output_type": "execute_result"
    }
   ],
   "source": [
    "# SVM Classifier with cubic kernel\n",
    "svm_clf = svm.SVC(kernel='poly', degree=3, C=1, decision_function_shape='ovo')\n",
    "\n",
    "# Create a pipeline that automatically scales the data before feeding it to the SVM\n",
    "pipeline = make_pipeline(StandardScaler(), svm_clf)\n",
    "\n",
    "# Extract features and target variables\n",
    "X = features_df.values\n",
    "y = targets_df['Class'].values\n",
    "\n",
    "# Perform 10-fold cross-validation\n",
    "cv_scores = cross_val_score(pipeline, X, y, cv=10)\n",
    "\n",
    "cv_scores.mean(), cv_scores.std()\n"
   ]
  },
  {
   "cell_type": "markdown",
   "id": "240e6186-bb77-4bb1-9594-169921fad555",
   "metadata": {},
   "source": [
    "Below code takes several minutes, be careful !"
   ]
  },
  {
   "cell_type": "code",
   "execution_count": 6,
   "id": "2ccdb32b-33f3-467f-b1d3-3642c53a8309",
   "metadata": {},
   "outputs": [
    {
     "data": {
      "text/plain": [
       "({'svc__gamma': 'scale', 'svc__tol': 0.001}, 0.8832737761924646)"
      ]
     },
     "execution_count": 6,
     "metadata": {},
     "output_type": "execute_result"
    }
   ],
   "source": [
    "# from sklearn.model_selection import GridSearchCV\n",
    "\n",
    "# # Defining the parameter grid\n",
    "# param_grid = {\n",
    "#     'svc__gamma': ['scale', 'auto', 1e-2, 1e-3, 1e-4],\n",
    "#     'svc__tol': [1e-3, 1e-4, 1e-5]\n",
    "# }\n",
    "\n",
    "# # Create a GridSearchCV object with 10-fold cross-validation\n",
    "# grid_search = GridSearchCV(pipeline, param_grid, cv=10, scoring='accuracy')\n",
    "\n",
    "# # Perform grid search\n",
    "# grid_search.fit(X, y)\n",
    "\n",
    "# # Best parameters and best score\n",
    "# best_params = grid_search.best_params_\n",
    "# best_score = grid_search.best_score_\n",
    "\n",
    "# best_params, best_score"
   ]
  },
  {
   "cell_type": "markdown",
   "id": "cc8cf482-d473-448c-872f-677af6f1d09e",
   "metadata": {},
   "source": [
    "({'svc__gamma': 'scale', 'svc__tol': 0.001}, 0.8832737761924646) was the result of the above code."
   ]
  },
  {
   "cell_type": "code",
   "execution_count": null,
   "id": "40df6e40-3ef6-456d-b106-b391b209df0f",
   "metadata": {},
   "outputs": [],
   "source": []
  },
  {
   "cell_type": "code",
   "execution_count": null,
   "id": "0f096aa3-521b-4e76-a976-3e41d4bfbe8f",
   "metadata": {},
   "outputs": [],
   "source": []
  },
  {
   "cell_type": "code",
   "execution_count": null,
   "id": "0e4fcb18-7013-4feb-bf40-1ae2c4789688",
   "metadata": {},
   "outputs": [],
   "source": []
  }
 ],
 "metadata": {
  "kernelspec": {
   "display_name": "Python 3 (ipykernel)",
   "language": "python",
   "name": "python3"
  },
  "language_info": {
   "codemirror_mode": {
    "name": "ipython",
    "version": 3
   },
   "file_extension": ".py",
   "mimetype": "text/x-python",
   "name": "python",
   "nbconvert_exporter": "python",
   "pygments_lexer": "ipython3",
   "version": "3.11.0"
  }
 },
 "nbformat": 4,
 "nbformat_minor": 5
}
