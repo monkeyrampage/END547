{
 "cells": [
  {
   "cell_type": "markdown",
   "id": "c2a1423a-7647-47ea-9987-09cbdc519210",
   "metadata": {},
   "source": [
    "## Decision Tree Model:"
   ]
  },
  {
   "cell_type": "code",
   "execution_count": 1,
   "id": "15c39e2c-677f-4ef0-92fd-7d33e05bbc37",
   "metadata": {},
   "outputs": [],
   "source": [
    "import pandas as pd\n",
    "\n",
    "# Loading the CSV files into pandas dataframes\n",
    "features_df = pd.read_csv('features.csv')\n",
    "targets_df = pd.read_csv('targets.csv')\n",
    "\n",
    "# # Checking the first few rows of each dataframe to understand their structure\n",
    "# features_head = features_df.head()\n",
    "# targets_head = targets_df.head()\n",
    "\n",
    "# features_head, targets_head"
   ]
  },
  {
   "cell_type": "code",
   "execution_count": 2,
   "id": "2bc2b513-b47c-4a75-8cd1-6a4f8e84d6ea",
   "metadata": {},
   "outputs": [],
   "source": [
    "from sklearn.tree import DecisionTreeClassifier\n",
    "from sklearn.model_selection import cross_val_score\n",
    "from sklearn.metrics import confusion_matrix"
   ]
  },
  {
   "cell_type": "code",
   "execution_count": 3,
   "id": "dbbf7b03-5bf5-41ef-a86e-89eb8862c9e3",
   "metadata": {},
   "outputs": [
    {
     "name": "stdout",
     "output_type": "stream",
     "text": [
      "Cross-Validation Mean Accuracy: 0.77\n",
      "Cross-Validation Standard Deviation: 0.17\n",
      "          Barbunya  Bombay  Cali  Dermason  Horoz  Seker  Sira\n",
      "Barbunya      1052       1   177         0     60      7    25\n",
      "Bombay           0     515     7         0      0      0     0\n",
      "Cali            56       0  1507         0     57      1     9\n",
      "Dermason         0       0     0      3249      3     66   228\n",
      "Horoz           25       0    24        14   1816      0    49\n",
      "Seker            4       0     3        35      0   1891    94\n",
      "Sira             3       0     1       324     65     35  2208\n"
     ]
    }
   ],
   "source": [
    "# Merging the features and targets dataframes\n",
    "data_df = pd.concat([features_df, targets_df], axis=1)\n",
    "\n",
    "# Splitting the data into features (X) and target (y)\n",
    "X = data_df.drop('Class', axis=1)\n",
    "y = data_df['Class']\n",
    "\n",
    "# Creating the decision tree classifier with max_leaf_nodes set to 17 to limit to 16 partitions\n",
    "clf = DecisionTreeClassifier(criterion='gini', max_leaf_nodes=17, random_state=42)\n",
    "\n",
    "# Performing 10-fold cross-validation\n",
    "cv_scores = cross_val_score(clf, X, y, cv=10)\n",
    "\n",
    "# Calculating the mean and standard deviation of the cross-validation scores\n",
    "cv_mean = cv_scores.mean()\n",
    "cv_std = cv_scores.std()\n",
    "\n",
    "print(f\"Cross-Validation Mean Accuracy: {cv_mean:.2f}\")\n",
    "print(f\"Cross-Validation Standard Deviation: {cv_std:.2f}\")\n",
    "\n",
    "# Optionally: Train the classifier and generate a confusion matrix\n",
    "clf.fit(X, y)\n",
    "y_pred = clf.predict(X)\n",
    "conf_matrix = confusion_matrix(y, y_pred)\n",
    "\n",
    "# Assuming your class labels are as follows\n",
    "class_labels = ['Barbunya', 'Bombay', 'Cali', 'Dermason', 'Horoz', 'Seker', 'Sira']\n",
    "conf_matrix_df = pd.DataFrame(conf_matrix, index=class_labels, columns=class_labels)\n",
    "\n",
    "# Printing the confusion matrix\n",
    "print(conf_matrix_df)\n"
   ]
  },
  {
   "cell_type": "markdown",
   "id": "b10f5bc3-3a4b-4e2a-ae27-92f3fc60b9bb",
   "metadata": {},
   "source": [
    "So our confusion matrix results look like:"
   ]
  },
  {
   "cell_type": "markdown",
   "id": "f97fbdff-88a7-48c1-9719-8e2eadcb0b3f",
   "metadata": {},
   "source": [
    "| Class    | Barbunya | Bombay | Cali | Dermason | Horoz | Seker | Sira |\n",
    "|----------|----------|--------|------|----------|-------|-------|------|\n",
    "| Barbunya | 1052     | 1      | 177  | 0        | 60    | 7     | 25   |\n",
    "| Bombay   | 0        | 515    | 7    | 0        | 0     | 0     | 0    |\n",
    "| Cali     | 56       | 0      | 1507 | 0        | 57    | 1     | 9    |\n",
    "| Dermason | 0        | 0      | 0    | 3249     | 3     | 66    | 228  |\n",
    "| Horoz    | 25       | 0      | 24   | 14       | 1816  | 0     | 49   |\n",
    "| Seker    | 4        | 0      | 3    | 35       | 0     | 1891  | 94   |\n",
    "| Sira     | 3        | 0      | 1    | 324      | 65    | 35    | 2208 |\n"
   ]
  },
  {
   "cell_type": "markdown",
   "id": "8f39954f-e5f8-4429-8be5-9cc563241ccc",
   "metadata": {},
   "source": [
    "Confusion matrix in the paper:"
   ]
  },
  {
   "cell_type": "markdown",
   "id": "adb14d61-1123-4d4c-b001-7ed77ff39ce3",
   "metadata": {},
   "source": [
    "| Actual/Predict | Barbunya | Bombay | Cali | Dermason | Horoz | Seker | Sira  |\n",
    "|----------------|----------|--------|------|----------|-------|-------|-------|\n",
    "| Barbunya       | 904      | 1      | 140  | 0        | 2     | 7     | 2     |\n",
    "| Bombay         | 1        | 352    | 0    | 517      | 3     | 0     | 0     |\n",
    "| Cali           | 0        | 1455   | 0    | 0        | 0     | 102   | 15    |\n",
    "| Dermason       | 0        | 0      | 3209 | 0        | 0     | 0     | 62    |\n",
    "| Horoz          | 0        | 28     | 258  | 1        | 1709  | 0     | 7     |\n",
    "| Seker          | 12       | 0      | 1    | 73       | 1     | 1877  | 45    |\n",
    "| Sira           | 50       | 0      | 10   | 263      | 99    | 81    | 2296  |\n"
   ]
  },
  {
   "cell_type": "code",
   "execution_count": 4,
   "id": "2b07e30a-8737-46d1-816d-02a8332bcb02",
   "metadata": {},
   "outputs": [],
   "source": [
    "# # to visualize Dt graph\n",
    "# !pip install graphviz\n",
    "\n",
    "# # sudo apt-get update\n",
    "# # sudo apt-get install graphviz\n"
   ]
  },
  {
   "cell_type": "code",
   "execution_count": 5,
   "id": "62e66698-5e2f-4ee9-a8e1-d84870220e02",
   "metadata": {},
   "outputs": [
    {
     "data": {
      "text/plain": [
       "'decision_tree.pdf'"
      ]
     },
     "execution_count": 5,
     "metadata": {},
     "output_type": "execute_result"
    }
   ],
   "source": [
    "from sklearn.tree import export_graphviz\n",
    "import graphviz\n",
    "\n",
    "# Export as dot file\n",
    "dot_data = export_graphviz(clf, out_file=None, \n",
    "                           feature_names=X.columns,  \n",
    "                           class_names=y.unique(),\n",
    "                           filled=True, rounded=True,\n",
    "                           special_characters=True)  \n",
    "\n",
    "# Use graphviz to create the graph\n",
    "graph = graphviz.Source(dot_data)  \n",
    "\n",
    "# To render the image, you can save it to a file or directly display it depending on your setup\n",
    "graph.render(\"decision_tree\")  # Saves the decision tree to a file \"decision_tree.pdf\""
   ]
  },
  {
   "cell_type": "code",
   "execution_count": 6,
   "id": "266e7812-17eb-40a7-9240-8c2b8509ce4c",
   "metadata": {},
   "outputs": [
    {
     "name": "stdout",
     "output_type": "stream",
     "text": [
      "Cross-Validation Mean Accuracy: 0.82\n",
      "Cross-Validation Standard Deviation: 0.19\n",
      "          Barbunya  Bombay  Cali  Dermason  Horoz  Seker  Sira\n",
      "Barbunya      1118       1   139         0      3      5    56\n",
      "Bombay           0     515     7         0      0      0     0\n",
      "Cali           147       0  1457         0     16      1     9\n",
      "Dermason         0       0     0      3270      1     41   234\n",
      "Horoz           25       0    78        14   1712      0    99\n",
      "Seker            7       0     0        99      0   1733   188\n",
      "Sira             4       0    24       324      7     18  2259\n"
     ]
    },
    {
     "data": {
      "text/plain": [
       "'decision_tree_2.pdf'"
      ]
     },
     "execution_count": 6,
     "metadata": {},
     "output_type": "execute_result"
    }
   ],
   "source": [
    "\n",
    "# Creating the decision tree classifier with max_leaf_nodes set to 17 to limit to 16 partitions\n",
    "clf = DecisionTreeClassifier(criterion='gini', max_leaf_nodes=10, random_state= 1442)\n",
    "\n",
    "# Performing 10-fold cross-validation\n",
    "cv_scores = cross_val_score(clf, X, y, cv=10)\n",
    "\n",
    "# Calculating the mean and standard deviation of the cross-validation scores\n",
    "cv_mean = cv_scores.mean()\n",
    "cv_std = cv_scores.std()\n",
    "\n",
    "print(f\"Cross-Validation Mean Accuracy: {cv_mean:.2f}\")\n",
    "print(f\"Cross-Validation Standard Deviation: {cv_std:.2f}\")\n",
    "\n",
    "# Optionally: Train the classifier and generate a confusion matrix\n",
    "clf.fit(X, y)\n",
    "y_pred = clf.predict(X)\n",
    "conf_matrix = confusion_matrix(y, y_pred)\n",
    "\n",
    "# Assuming your class labels are as follows\n",
    "class_labels = ['Barbunya', 'Bombay', 'Cali', 'Dermason', 'Horoz', 'Seker', 'Sira']\n",
    "conf_matrix_df = pd.DataFrame(conf_matrix, index=class_labels, columns=class_labels)\n",
    "\n",
    "# Printing the confusion matrix\n",
    "print(conf_matrix_df)\n",
    "\n",
    "dot_data = export_graphviz(clf, out_file=None, \n",
    "                           feature_names=X.columns,  \n",
    "                           class_names=y.unique(),\n",
    "                           filled=True, rounded=True,\n",
    "                           special_characters=True)  \n",
    "\n",
    "# Use graphviz to create the graph\n",
    "graph = graphviz.Source(dot_data)  \n",
    "\n",
    "# To render the image, you can save it to a file or directly display it depending on your setup\n",
    "graph.render(\"decision_tree_2\")  # Saves the decision tree to a file \"decision_tree.pdf\""
   ]
  },
  {
   "cell_type": "markdown",
   "id": "383c39d7-9905-44b5-81ca-58695ca7d815",
   "metadata": {},
   "source": [
    "### More detailed analysis:"
   ]
  },
  {
   "cell_type": "code",
   "execution_count": null,
   "id": "1b029364-d19f-4e9d-9214-e44565005009",
   "metadata": {},
   "outputs": [],
   "source": []
  },
  {
   "cell_type": "code",
   "execution_count": null,
   "id": "594136e5-f857-4f88-97fa-f5e6ce2342af",
   "metadata": {},
   "outputs": [],
   "source": []
  },
  {
   "cell_type": "code",
   "execution_count": null,
   "id": "f714452c-64a8-42ae-b661-4ffdef879f89",
   "metadata": {},
   "outputs": [],
   "source": []
  },
  {
   "cell_type": "code",
   "execution_count": null,
   "id": "b121937f-7e5a-4832-ba03-80b07cfc7c93",
   "metadata": {},
   "outputs": [],
   "source": []
  },
  {
   "cell_type": "code",
   "execution_count": null,
   "id": "2d5bf3cf-5ec6-4012-a46c-71b1b090ad3b",
   "metadata": {},
   "outputs": [],
   "source": []
  },
  {
   "cell_type": "code",
   "execution_count": null,
   "id": "d09c47df-3409-40b5-9c63-e4c035e18732",
   "metadata": {},
   "outputs": [],
   "source": []
  }
 ],
 "metadata": {
  "kernelspec": {
   "display_name": "Python 3 (ipykernel)",
   "language": "python",
   "name": "python3"
  },
  "language_info": {
   "codemirror_mode": {
    "name": "ipython",
    "version": 3
   },
   "file_extension": ".py",
   "mimetype": "text/x-python",
   "name": "python",
   "nbconvert_exporter": "python",
   "pygments_lexer": "ipython3",
   "version": "3.11.0"
  }
 },
 "nbformat": 4,
 "nbformat_minor": 5
}
